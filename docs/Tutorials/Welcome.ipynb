{
 "cells": [
  {
   "cell_type": "markdown",
   "id": "ed8451aa",
   "metadata": {},
   "source": [
    "# Welcome to the CDA example notebook set. \n",
    "\n",
    "Below you will find links to open the interactive versions of all of our example notebooks, or you can browse them by clicking the folder icon on the left."
   ]
  },
  {
   "cell_type": "markdown",
   "id": "2d70eb5e",
   "metadata": {},
   "source": [
    "## Notebook Quicklinks\n",
    "\n",
    "- [Available Search Terms](./SearchTerms.ipynb): Shows how to find out what you can search\n",
    "- [Basic Search](./BasicSearch.ipynb): Demonstrates the basic search functions\n",
    "- [Search Summaries](./DataSummaries.ipynb): How to return summary statistics instead of raw search results\n",
    "- [Search Operators](./Operators.ipynb): How to combine many search terms to get specific results\n",
    "- [Endpoint chaining](./Chaining.ipynb): How to narrow your search to files only from a specific endpoint\n",
    "- [Building a cohort](./BuildingACohort.ipynb): An end-to-end walkthrough for how to find, filter, merge and save data to build a cohort."
   ]
  },
  {
   "cell_type": "markdown",
   "id": "c2545cb0",
   "metadata": {},
   "source": [
    "## How to use these notebooks\n",
    "\n",
    "ipython notebooks let you intersperse code with text, and run bits of code one at a time, in any order. MyBinder is a service that makes you a small personal cloud computer when you click the launch button.\n",
    "\n",
    "If you want to run a notebook as is, choose a notebook, then either press the play button at the top of the panel, or use the keyboard shortcut command + enter (control + enter on windows) to execute each command.\n",
    "\n",
    "If you want to use these notebooks as a starting place for your own search, you can safely change any parameters. Since this is a small cloud computer, if the instance breaks, or you can't get the code back to working again, you can always close this browser tab and click the `launchbinder` button again to get a new, clean version. \n",
    "\n",
    "<div style=\"background-color:#f9cfbf;color:#000000;padding:20px;\">\n",
    "<strong>Save your changes locally!</strong>\n",
    "Any changes you make to the code here will disappear as soon as you close this window. If you have used this binder instance to do your own searches, remember to download the changed ipython notebook(s) to your local computer before you close. You can always upload your changed notebooks to a new MyBinder instance next time you work on it. \n",
    "</div>"
   ]
  },
  {
   "cell_type": "markdown",
   "id": "92bc76f3",
   "metadata": {},
   "source": [
    "## About CDA python\n",
    "\n",
    "The CDA provides a custom python tool for searching CDA data. `Q` (short for Query) offers several ways to search and filter data, and several input modes:\n",
    "\n",
    "---\n",
    "- **Q.()** builds a query that can be used by `run()` or `count()`\n",
    "- **Q.run()** returns data for the specified search \n",
    "- **Q.count()** returns summary information (counts) data that fit the specified search\n",
    "- **columns()** returns entity field names\n",
    "- **unique_terms()** returns entity field contents\n",
    "\n",
    "---\n"
   ]
  },
  {
   "cell_type": "markdown",
   "id": "6c7e79dc",
   "metadata": {},
   "source": [
    "## About CDA data\n",
    "\n",
    "<div class=\"cdanote\" style=\"background-color:#b3e5d5;color:black;padding:20px;\">\n",
    "    \n",
    "CDA data comes from three sources:\n",
    "<ul>\n",
    "<li><b>The <a href=\"https://proteomic.datacommons.cancer.gov/pdc/\"> Proteomic Data Commons</a> (PDC)</b></li>\n",
    "<li><b>The <a href=\"https://gdc.cancer.gov/\">Genomic Data Commons</a> (GDC)</b></li>\n",
    "<li><b>The <a href=\"https://datacommons.cancer.gov/repository/imaging-data-commons\">Imaging Data Commons</a> (IDC)</b></li>\n",
    "</ul> \n",
    "    \n",
    "The CDA makes this data searchable in five main endpoints:\n",
    "\n",
    "<ul>\n",
    "<li><b>subject:</b> A patient entity captures the study-independent metadata for research subjects. Human research subjects are usually not traceable to a particular person to protect the subjects privacy.</li>\n",
    "<li><b>researchsubject:</b> A research subject is the entity of interest in a specific research study or project, typically a human being or an animal, but can also be a device, group of humans or animals, or a tissue sample. Human research subjects are usually not traceable to a particular person to protect the subjects privacy. This entity plays the role of the case_id in existing data. A subject who participates in 3 studies will have 3 researchsubject IDs.</li>\n",
    "<li><b>specimen:</b> Any material taken as a sample from a biological entity (living or dead), or from a physical object or the environment. Specimens are usually collected as an example of their kind, often for use in some investigation.</li>\n",
    "<li><b>file:</b> A unit of data about subjects, researchsubjects, specimens, or their associated information.</li>\n",
    "<li><b>mutation:</b> Molecular data about specific mutations, currently limited to the TCGA-READ project from GDC.</li>\n",
    "</ul>\n",
    "and two endpoints that offer deeper information about data in the researchsubject endpoint:\n",
    "<ul>\n",
    "<li><b>diagnosis:</b> A collection of characteristics that describe an abnormal condition of the body as assessed at a point in time. May be used to capture information about neoplastic and non-neoplastic conditions.</li>\n",
    "<li><b>treatment:</b> Represent medication administration or other treatment types.</li>\n",
    "</ul>\n",
    "\n",
    "\n",
    "Any metadata field can be searched from any endpoint, the only difference between search types is what type of data is returned by default. This means that you can think of the CDA as a really, really enormous spreadsheet full of data. To search this enormous spreadsheet, you'd want select columns, and then filter rows.\n",
    "</div>"
   ]
  }
 ],
 "metadata": {
  "kernelspec": {
   "display_name": "Python 3 (ipykernel)",
   "language": "python",
   "name": "python3"
  },
  "language_info": {
   "codemirror_mode": {
    "name": "ipython",
    "version": 3
   },
   "file_extension": ".py",
   "mimetype": "text/x-python",
   "name": "python",
   "nbconvert_exporter": "python",
   "pygments_lexer": "ipython3",
   "version": "3.10.6"
  }
 },
 "nbformat": 4,
 "nbformat_minor": 5
}
