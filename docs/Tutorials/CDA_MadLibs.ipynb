{
 "cells": [
  {
   "cell_type": "code",
   "execution_count": null,
   "id": "60929be1",
   "metadata": {},
   "outputs": [],
   "source": [
    "from cdapython import Q, columns, unique_terms, query\n",
    "import numpy as np\n",
    "from itables import init_notebook_mode, show\n",
    "init_notebook_mode(all_interactive=True)\n",
    "import itables.options as opt\n",
    "opt.maxBytes=0\n",
    "opt.scrollX=\"200px\"\n",
    "opt.scrollCollapse=True\n",
    "opt.paging=True\n",
    "opt.maxColumns=0\n",
    "print(Q.get_version())"
   ]
  },
  {
   "cell_type": "markdown",
   "id": "839851d8",
   "metadata": {},
   "source": [
    "# CDA Madlibs\n",
    "\n",
    "A fill in the blank notebook for basic CDA functions. Good for learning syntax and finding errors in your own code. Replace any `____#____` with your search term and the code should run. Be sure to leave quotes around words that look like `\"____#____\"` and to not add quotes for `____#____`. Text after a ## in a code block is a comment explaining what the blank should be filled with, just like a madlib."
   ]
  },
  {
   "cell_type": "markdown",
   "id": "0d94a85e",
   "metadata": {},
   "source": [
    "## Finding Terms to search"
   ]
  },
  {
   "cell_type": "code",
   "execution_count": null,
   "id": "422012e7",
   "metadata": {},
   "outputs": [],
   "source": [
    "columns()"
   ]
  },
  {
   "cell_type": "code",
   "execution_count": null,
   "id": "543b3e7b",
   "metadata": {},
   "outputs": [],
   "source": [
    "columns().to_dataframe()"
   ]
  },
  {
   "cell_type": "code",
   "execution_count": null,
   "id": "2b17acfd",
   "metadata": {},
   "outputs": [],
   "source": [
    "columns().to_list(filters = \"____1____\") \n",
    "\n",
    "## 1) word you want to search the column name and description for"
   ]
  },
  {
   "cell_type": "code",
   "execution_count": null,
   "id": "dcbd3734",
   "metadata": {},
   "outputs": [],
   "source": [
    "unique_terms(\"____1____\")   \n",
    "\n",
    "## 1) column name you want to see the possible values for"
   ]
  },
  {
   "cell_type": "code",
   "execution_count": null,
   "id": "3f05169d",
   "metadata": {},
   "outputs": [],
   "source": [
    "unique_terms(\"____1____\").to_dataframe() \n",
    "\n",
    "## 1) column name you want to see the possible values for"
   ]
  },
  {
   "cell_type": "code",
   "execution_count": null,
   "id": "e36ca8b3",
   "metadata": {},
   "outputs": [],
   "source": [
    "unique_terms(\"____1____\", show_counts = True).to_dataframe() \n",
    "\n",
    "## 1) column name you want to see the possible values for"
   ]
  },
  {
   "cell_type": "code",
   "execution_count": null,
   "id": "386ecb63",
   "metadata": {},
   "outputs": [],
   "source": [
    "unique_terms(\"____1____\", show_counts = True, system = \"____2____\").to_dataframe() \n",
    "\n",
    "## 1) column name you want to see the possible values for\n",
    "## 2) abbreviation of a single data system. Currently GDC, PDC, or IDC"
   ]
  },
  {
   "cell_type": "code",
   "execution_count": null,
   "id": "7b07c665",
   "metadata": {},
   "outputs": [],
   "source": [
    "myquery = Q('____1____ = \"____2____\"')\n",
    "\n",
    "## 1) column name for variable you care about\n",
    "## 2) unique_term value for that variable you want to filter the data with"
   ]
  },
  {
   "cell_type": "code",
   "execution_count": null,
   "id": "de0a4126",
   "metadata": {},
   "outputs": [],
   "source": [
    "myquery.____1____.run()\n",
    "\n",
    "## 1) endpoint you want to search, currently one of: subject, file, researchsubject, specimen, diagnosis, or mutation"
   ]
  },
  {
   "cell_type": "code",
   "execution_count": null,
   "id": "d3c31871",
   "metadata": {},
   "outputs": [],
   "source": [
    "myquery.____1____.run().to_dataframe()\n",
    "\n",
    "## 1) endpoint you want to search, currently one of: subject, file, researchsubject, specimen, diagnosis, or mutation"
   ]
  },
  {
   "cell_type": "markdown",
   "id": "886a3ec7",
   "metadata": {},
   "source": [
    "## Quick Help\n",
    "\n",
    "### columns()\n",
    "\n",
    "Show all searchable columns in the CDA\n",
    "\n",
    "**Usage:**\n",
    "`columns(<optional args>)`\n",
    "\n",
    "**Options:**\n",
    "- `limit = <number>`: Changes the number of columns returned. Default = 100\n",
    "- `description = <True/False>`: Adds a description field for each column name. Default = True\n",
    "\n",
    "**Attributes:**  \n",
    "- `.to_dataframe()`: Returns results as a dataframe\n",
    "- `.to_list()`: Returns results as a list\n",
    "    - Options:\n",
    "        - `filters = <string>`: Only returns data that contain <string>\n",
    "        - `exact = <True/False>`: Only return data that are an exact match to <string>\n",
    "\n",
    "\n",
    "### unique_terms()\n",
    "\n",
    "For a given column show all unique terms.\n",
    "\n",
    "**Usage:** `unique_terms(<column_name>, <optional args>)`\n",
    "\n",
    "**Options:**\n",
    "- `limit = <number>`: Changes the number of terms returned. Default = 100\n",
    "- `system= <data source>`: Returns only terms that belong to the specified datasource. Currently `GDC`, `IDC`, or `PDC`\n",
    "- `show_counts = <True/False>`: Returns terms as a dataframe that counts how often each term appears. Default = False\n",
    "\n",
    "**Attributes:**  \n",
    "- `.to_dataframe()`: Returns results as a dataframe.\n",
    "- `.to_list()`: Returns results as a list\n",
    "    - Options:\n",
    "        - `filters = <string>`: Only returns data that contain <string>\n",
    "        - `exact = <True/False>`: Only return data that are an exact match to <string>\n",
    "\n",
    "### Q()\n",
    "    \n",
    "Executes this query on the public CDA server.\n",
    "\n",
    "**Usage:** `<result> = Q(<column> <operator> <term>)`\n",
    "\n",
    "**Where:**\n",
    "- `<result>` is any user created variable\n",
    "- `<column>` is a value from `columns()`\n",
    "- `<operator>` is a valid comparison operator\n",
    "- `<term>` is a numeric/boolean/unique value from `unique_terms()`\n",
    "\n",
    "**Returns:** cda-python Q data type"
   ]
  },
  {
   "cell_type": "markdown",
   "id": "4fa6bdee",
   "metadata": {},
   "source": [
    "## More help\n",
    "\n",
    "See: https://cda.readthedocs.io/en/latest/QuickStart/Usage/"
   ]
  }
 ],
 "metadata": {
  "kernelspec": {
   "display_name": "Python 3 (ipykernel)",
   "language": "python",
   "name": "python3"
  },
  "language_info": {
   "codemirror_mode": {
    "name": "ipython",
    "version": 3
   },
   "file_extension": ".py",
   "mimetype": "text/x-python",
   "name": "python",
   "nbconvert_exporter": "python",
   "pygments_lexer": "ipython3",
   "version": "3.10.6"
  }
 },
 "nbformat": 4,
 "nbformat_minor": 5
}
