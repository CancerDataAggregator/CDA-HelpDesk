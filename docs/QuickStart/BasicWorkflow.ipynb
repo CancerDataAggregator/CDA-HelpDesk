{
 "cells": [
  {
   "cell_type": "markdown",
   "id": "841f38e8",
   "metadata": {},
   "source": [
    "The CDA provides a custom python tool for searching CDA data. [`Q`](usage/#q) (short for Query) offers several ways to search and filter data, and several input modes:\n",
    "\n",
    "---\n",
    "- **<a href=\"../../QuickStart/usage/#q\">Q.()</a>** builds a query that can be used by `run()` or `count()`\n",
    "- **<a href=\"../../QuickStart/usage/#qrun\">Q.run()</a>** returns data for the specified search \n",
    "- **<a href=\"../../QuickStart/usage/#qcount\">Q.count()</a>** returns summary information (counts) data that fit the specified search\n",
    "- **<a href=\"../../QuickStart/usage/#columns\">columns()</a>** returns entity field names\n",
    "- **<a href=\"../../QuickStart/usage/#unique_terms\">unique_terms()</a>** returns entity field contents\n",
    "\n",
    "---\n",
    "         \n",
    "## Import functions"
   ]
  },
  {
   "cell_type": "code",
   "execution_count": null,
   "id": "8c38d25d",
   "metadata": {},
   "outputs": [],
   "source": [
    "from cdapython import (\n",
    "    Q, columns, unique_terms, set_default_project_dataset, set_host_url, set_table_version, get_host_url, get_default_project_dataset, get_table_version \n",
    ")\n",
    "import numpy as np\n",
    "import pandas as pd\n",
    "from itables import init_notebook_mode, show\n",
    "init_notebook_mode(all_interactive=True)\n",
    "import itables.options as opt\n",
    "opt.maxBytes=0\n",
    "opt.scrollX=\"200px\"\n",
    "opt.scrollCollapse=True\n",
    "opt.paging=True\n",
    "opt.maxColumns=0\n",
    "\n",
    "\n",
    "set_default_project_dataset(\"gdc-bq-sample.dev\")\n",
    "set_host_url(\"http://35.192.60.10:8080/\")\n",
    "set_table_version(\"all_merged_subjects_v3_2_final\")\n",
    "\n",
    "print(get_host_url())\n",
    "print(get_default_project_dataset())\n",
    "print(get_table_version())\n",
    "print(Q.get_version())"
   ]
  },
  {
   "cell_type": "markdown",
   "id": "b8c43eb7",
   "metadata": {},
   "source": [
    "## Find valid search terms"
   ]
  },
  {
   "cell_type": "code",
   "execution_count": null,
   "id": "b703d2ab",
   "metadata": {},
   "outputs": [],
   "source": [
    "columns().to_dataframe()"
   ]
  },
  {
   "cell_type": "code",
   "execution_count": null,
   "id": "1511bfbb",
   "metadata": {},
   "outputs": [],
   "source": [
    "unique_terms('cause_of_death', show_counts=True).to_dataframe()"
   ]
  },
  {
   "cell_type": "markdown",
   "id": "07c1c00d",
   "metadata": {},
   "source": [
    "## Create query"
   ]
  },
  {
   "cell_type": "code",
   "execution_count": null,
   "id": "c611e8c2",
   "metadata": {},
   "outputs": [],
   "source": [
    "myquery = Q('cause_of_death = \"Cancer Related\" OR cause_of_death = \"Cancer cell proliferation\"')"
   ]
  },
  {
   "cell_type": "markdown",
   "id": "69aa9d38",
   "metadata": {},
   "source": [
    "## Run query against desired endpoints and preview results"
   ]
  },
  {
   "cell_type": "markdown",
   "id": "4edef098",
   "metadata": {},
   "source": [
    "<div class=\"cdadefine\" style=\"background-color:#add9e5;color:black;padding:20px;\">\n",
    "Note: data at CDA is aggregated, but not harmonized, these values reflect those reported at our data sources\n",
    "    </div>"
   ]
  },
  {
   "cell_type": "code",
   "execution_count": null,
   "id": "1f9b558a",
   "metadata": {
    "scrolled": true
   },
   "outputs": [],
   "source": [
    "myquery.subject.count.run()"
   ]
  },
  {
   "cell_type": "code",
   "execution_count": null,
   "id": "5eae5d21",
   "metadata": {
    "scrolled": true
   },
   "outputs": [],
   "source": [
    "mydata = myquery.subject.run()\n",
    "\n",
    "mydata.to_dataframe()"
   ]
  },
  {
   "cell_type": "code",
   "execution_count": null,
   "id": "e4ceb904",
   "metadata": {
    "scrolled": true
   },
   "outputs": [],
   "source": [
    "myquery.subject.file.count.run()"
   ]
  },
  {
   "cell_type": "markdown",
   "id": "e29e3b68",
   "metadata": {},
   "source": [
    "## Retrieve all metadata"
   ]
  },
  {
   "cell_type": "code",
   "execution_count": null,
   "id": "69b12db9",
   "metadata": {},
   "outputs": [],
   "source": [
    "allmydata = mydata.get_all().to_dataframe()"
   ]
  },
  {
   "cell_type": "code",
   "execution_count": null,
   "id": "62a6d955",
   "metadata": {
    "scrolled": true
   },
   "outputs": [],
   "source": [
    "allmydata"
   ]
  }
 ],
 "metadata": {
  "kernelspec": {
   "display_name": "Python 3 (ipykernel)",
   "language": "python",
   "name": "python3"
  },
  "language_info": {
   "codemirror_mode": {
    "name": "ipython",
    "version": 3
   },
   "file_extension": ".py",
   "mimetype": "text/x-python",
   "name": "python",
   "nbconvert_exporter": "python",
   "pygments_lexer": "ipython3",
   "version": "3.10.11"
  }
 },
 "nbformat": 4,
 "nbformat_minor": 5
}
