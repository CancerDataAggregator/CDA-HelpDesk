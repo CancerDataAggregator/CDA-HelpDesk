{
 "cells": [
  {
   "cell_type": "code",
   "execution_count": 1,
   "id": "1358ba5a-8b9b-40cb-aa18-3fe15637622f",
   "metadata": {},
   "outputs": [],
   "source": [
    "from cdapython.data_exploration import tables, columns, column_values, column_data_types\n",
    "from cdapython.fetch import fetch_rows\n",
    "from cdapython.query import summary_counts"
   ]
  },
  {
   "cell_type": "code",
   "execution_count": 5,
   "id": "f92c1420-3222-4187-8e1a-0b3158c1b575",
   "metadata": {},
   "outputs": [
    {
     "data": {
      "text/plain": [
       "{'total_subject_matches': 28636,\n",
       " 'total_related_files': 23308180,\n",
       " 'subject_identifier_system': {'GDC': 609, 'IDC': 27834, 'PDC': 245},\n",
       " 'sex': {None: 28636},\n",
       " 'race': {None: 28636},\n",
       " 'ethnicity': {'1': 1,\n",
       "  'Non-Hispanic': 1,\n",
       "  'Non-Hispanic [9]': 5,\n",
       "  'Not Hispanic Lat': 1,\n",
       "  'W': 2,\n",
       "  None: 28626},\n",
       " 'cause_of_death': {None: 28636}}"
      ]
     },
     "execution_count": 5,
     "metadata": {},
     "output_type": "execute_result"
    }
   ],
   "source": [
    "summary_counts( table='subject', match_all=[ 'sex = \"\"' ] )"
   ]
  },
  {
   "cell_type": "code",
   "execution_count": 4,
   "id": "e74d9346-2096-4ec8-a5c7-93578c1a65a5",
   "metadata": {},
   "outputs": [
    {
     "data": {
      "text/html": [
       "<div>\n",
       "<style scoped>\n",
       "    .dataframe tbody tr th:only-of-type {\n",
       "        vertical-align: middle;\n",
       "    }\n",
       "\n",
       "    .dataframe tbody tr th {\n",
       "        vertical-align: top;\n",
       "    }\n",
       "\n",
       "    .dataframe thead th {\n",
       "        text-align: right;\n",
       "    }\n",
       "</style>\n",
       "<table border=\"1\" class=\"dataframe\">\n",
       "  <thead>\n",
       "    <tr style=\"text-align: right;\">\n",
       "      <th></th>\n",
       "      <th>sex</th>\n",
       "      <th>count</th>\n",
       "    </tr>\n",
       "  </thead>\n",
       "  <tbody>\n",
       "    <tr>\n",
       "      <th>0</th>\n",
       "      <td>female</td>\n",
       "      <td>46733</td>\n",
       "    </tr>\n",
       "    <tr>\n",
       "      <th>1</th>\n",
       "      <td>male</td>\n",
       "      <td>41384</td>\n",
       "    </tr>\n",
       "    <tr>\n",
       "      <th>2</th>\n",
       "      <td></td>\n",
       "      <td>28636</td>\n",
       "    </tr>\n",
       "    <tr>\n",
       "      <th>3</th>\n",
       "      <td>F</td>\n",
       "      <td>17013</td>\n",
       "    </tr>\n",
       "    <tr>\n",
       "      <th>4</th>\n",
       "      <td>Male</td>\n",
       "      <td>16450</td>\n",
       "    </tr>\n",
       "    <tr>\n",
       "      <th>5</th>\n",
       "      <td>M</td>\n",
       "      <td>6518</td>\n",
       "    </tr>\n",
       "    <tr>\n",
       "      <th>6</th>\n",
       "      <td>Female</td>\n",
       "      <td>3531</td>\n",
       "    </tr>\n",
       "    <tr>\n",
       "      <th>7</th>\n",
       "      <td>not reported</td>\n",
       "      <td>106</td>\n",
       "    </tr>\n",
       "    <tr>\n",
       "      <th>8</th>\n",
       "      <td>unknown</td>\n",
       "      <td>63</td>\n",
       "    </tr>\n",
       "    <tr>\n",
       "      <th>9</th>\n",
       "      <td>Unspecified</td>\n",
       "      <td>4</td>\n",
       "    </tr>\n",
       "    <tr>\n",
       "      <th>10</th>\n",
       "      <td>Unknown</td>\n",
       "      <td>3</td>\n",
       "    </tr>\n",
       "    <tr>\n",
       "      <th>11</th>\n",
       "      <td>unspecified</td>\n",
       "      <td>1</td>\n",
       "    </tr>\n",
       "  </tbody>\n",
       "</table>\n",
       "</div>"
      ],
      "text/plain": [
       "             sex  count\n",
       "0         female  46733\n",
       "1           male  41384\n",
       "2                 28636\n",
       "3              F  17013\n",
       "4           Male  16450\n",
       "5              M   6518\n",
       "6         Female   3531\n",
       "7   not reported    106\n",
       "8        unknown     63\n",
       "9    Unspecified      4\n",
       "10       Unknown      3\n",
       "11   unspecified      1"
      ]
     },
     "execution_count": 4,
     "metadata": {},
     "output_type": "execute_result"
    }
   ],
   "source": [
    "column_values( 'sex', filters= '')"
   ]
  }
 ],
 "metadata": {
  "kernelspec": {
   "display_name": "Python 3 (ipykernel)",
   "language": "python",
   "name": "python3"
  },
  "language_info": {
   "codemirror_mode": {
    "name": "ipython",
    "version": 3
   },
   "file_extension": ".py",
   "mimetype": "text/x-python",
   "name": "python",
   "nbconvert_exporter": "python",
   "pygments_lexer": "ipython3",
   "version": "3.9.18"
  }
 },
 "nbformat": 4,
 "nbformat_minor": 5
}
