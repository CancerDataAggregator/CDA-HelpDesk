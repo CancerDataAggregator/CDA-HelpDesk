{
 "cells": [
  {
   "cell_type": "code",
   "execution_count": null,
   "metadata": {},
   "outputs": [
    {
     "ename": "ImportError",
     "evalue": "cannot import name 'summarize_subjects' from 'cdapython' (/opt/anaconda3/envs/cdapython/lib/python3.13/site-packages/cdapython/__init__.py)",
     "output_type": "error",
     "traceback": [
      "\u001b[0;31m---------------------------------------------------------------------------\u001b[0m",
      "\u001b[0;31mImportError\u001b[0m                               Traceback (most recent call last)",
      "Cell \u001b[0;32mIn[2], line 4\u001b[0m\n\u001b[1;32m      2\u001b[0m \u001b[38;5;28;01mimport\u001b[39;00m \u001b[38;5;21;01mpandas\u001b[39;00m \u001b[38;5;28;01mas\u001b[39;00m \u001b[38;5;21;01mpd\u001b[39;00m\n\u001b[1;32m      3\u001b[0m \u001b[38;5;28;01mimport\u001b[39;00m \u001b[38;5;21;01mos\u001b[39;00m\n\u001b[0;32m----> 4\u001b[0m \u001b[38;5;28;01mfrom\u001b[39;00m \u001b[38;5;21;01mcdapython\u001b[39;00m \u001b[38;5;28;01mimport\u001b[39;00m tables, columns, column_values, summarize_subjects, summarize_files, get_subject_data, get_file_data\n\u001b[1;32m      5\u001b[0m \u001b[38;5;28;01mfrom\u001b[39;00m \u001b[38;5;21;01mdatetime\u001b[39;00m \u001b[38;5;28;01mimport\u001b[39;00m datetime\n\u001b[1;32m      6\u001b[0m \u001b[38;5;28;01mfrom\u001b[39;00m \u001b[38;5;21;01mitables\u001b[39;00m \u001b[38;5;28;01mimport\u001b[39;00m init_notebook_mode, show\n",
      "\u001b[0;31mImportError\u001b[0m: cannot import name 'summarize_subjects' from 'cdapython' (/opt/anaconda3/envs/cdapython/lib/python3.13/site-packages/cdapython/__init__.py)"
     ]
    }
   ],
   "source": [
    "import numpy as np\n",
    "import pandas as pd\n",
    "import os\n",
    "from cdapython import tables, columns, column_values, summarize_subjects, summarize_files, get_subject_data, get_file_data\n",
    "from datetime import datetime\n",
    "from itables import init_notebook_mode, show\n",
    "init_notebook_mode(all_interactive=True)\n",
    "import itables.options as opt\n",
    "\n",
    "opt.lengthMenu=[100]\n",
    "opt.classes=\"display compact nowrap\"\n",
    "opt.buttons=[\"copyHtml5\", \"csvHtml5\", \"excelHtml5\"]\n",
    "opt.maxBytes=0\n",
    "\n",
    "# Change this to the API url you are attempting to connect to\n",
    "from cdapython import set_api_url\n",
    "set_api_url(\"https://cda-dev.datacommons.cancer.gov/\")\n"
   ]
  }
 ],
 "metadata": {
  "kernelspec": {
   "display_name": "cdapython",
   "language": "python",
   "name": "python3"
  },
  "language_info": {
   "codemirror_mode": {
    "name": "ipython",
    "version": 3
   },
   "file_extension": ".py",
   "mimetype": "text/x-python",
   "name": "python",
   "nbconvert_exporter": "python",
   "pygments_lexer": "ipython3",
   "version": "3.13.1"
  }
 },
 "nbformat": 4,
 "nbformat_minor": 2
}
