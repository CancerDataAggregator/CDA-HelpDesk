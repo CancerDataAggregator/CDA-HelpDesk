{
 "cells": [
  {
   "cell_type": "code",
   "execution_count": null,
   "metadata": {
    "tags": [
     "hide_code"
    ]
   },
   "outputs": [],
   "source": [
    "import numpy as np\n",
    "import pandas as pd\n",
    "from itables import init_notebook_mode, show\n",
    "init_notebook_mode(all_interactive=True)\n",
    "import itables.options as opt\n",
    "\n",
    "opt.classes=\"display\"\n",
    "opt.buttons=[\"copyHtml5\", \"csvHtml5\", \"excelHtml5\"]\n",
    "opt.maxBytes=0\n",
    "import os\n",
    "os.environ['CDA_API_URL'] = 'https://cancerdata.dsde-dev.broadinstitute.org/'\n",
    "from cdapython import tables, columns, column_values, fetch_rows, summary_counts"
   ]
  }
 ],
 "metadata": {
  "language_info": {
   "name": "python"
  }
 },
 "nbformat": 4,
 "nbformat_minor": 2
}
