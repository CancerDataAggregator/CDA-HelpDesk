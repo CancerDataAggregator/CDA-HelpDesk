{
 "cells": [
  {
   "cell_type": "markdown",
   "id": "b7929bdb",
   "metadata": {},
   "source": [
    "\n",
    "To see help pages while you work type:\n",
    "\n",
    "```\n",
    "help(function)\n",
    "```\n",
    "\n",
    "example:\n",
    "\n",
    "```\n",
    "help(fetch_rows)\n",
    "```"
   ]
  },
  {
   "cell_type": "markdown",
   "id": "a97843f8-0dd3-4adf-8927-060b3a2e3130",
   "metadata": {},
   "source": [
    "## Import available `cdapython` functions"
   ]
  },
  {
   "cell_type": "code",
   "execution_count": 1,
   "id": "6e609474-108d-4555-aa65-d7df21f56d23",
   "metadata": {
    "editable": true,
    "slideshow": {
     "slide_type": ""
    },
    "tags": [
     "hide_code"
    ]
   },
   "outputs": [
    {
     "ename": "ImportError",
     "evalue": "Error importing numpy: you should not try to import numpy from\n        its source directory; please exit the numpy source tree, and relaunch\n        your python interpreter from there.",
     "output_type": "error",
     "traceback": [
      "\u001b[31m---------------------------------------------------------------------------\u001b[39m",
      "\u001b[31mImportError\u001b[39m                               Traceback (most recent call last)",
      "\u001b[36mFile \u001b[39m\u001b[32m/opt/anaconda3/envs/mkdocs/lib/python3.13/site-packages/numpy/_core/__init__.py:23\u001b[39m\n\u001b[32m     22\u001b[39m \u001b[38;5;28;01mtry\u001b[39;00m:\n\u001b[32m---> \u001b[39m\u001b[32m23\u001b[39m     \u001b[38;5;28;01mfrom\u001b[39;00m\u001b[38;5;250m \u001b[39m\u001b[34;01m.\u001b[39;00m\u001b[38;5;250m \u001b[39m\u001b[38;5;28;01mimport\u001b[39;00m multiarray\n\u001b[32m     24\u001b[39m \u001b[38;5;28;01mexcept\u001b[39;00m \u001b[38;5;167;01mImportError\u001b[39;00m \u001b[38;5;28;01mas\u001b[39;00m exc:\n",
      "\u001b[36mFile \u001b[39m\u001b[32m/opt/anaconda3/envs/mkdocs/lib/python3.13/site-packages/numpy/_core/multiarray.py:10\u001b[39m\n\u001b[32m      9\u001b[39m \u001b[38;5;28;01mimport\u001b[39;00m\u001b[38;5;250m \u001b[39m\u001b[34;01mfunctools\u001b[39;00m\n\u001b[32m---> \u001b[39m\u001b[32m10\u001b[39m \u001b[38;5;28;01mfrom\u001b[39;00m\u001b[38;5;250m \u001b[39m\u001b[34;01m.\u001b[39;00m\u001b[38;5;250m \u001b[39m\u001b[38;5;28;01mimport\u001b[39;00m overrides\n\u001b[32m     11\u001b[39m \u001b[38;5;28;01mfrom\u001b[39;00m\u001b[38;5;250m \u001b[39m\u001b[34;01m.\u001b[39;00m\u001b[38;5;250m \u001b[39m\u001b[38;5;28;01mimport\u001b[39;00m _multiarray_umath\n",
      "\u001b[36mFile \u001b[39m\u001b[32m/opt/anaconda3/envs/mkdocs/lib/python3.13/site-packages/numpy/_core/overrides.py:7\u001b[39m\n\u001b[32m      6\u001b[39m \u001b[38;5;28;01mfrom\u001b[39;00m\u001b[38;5;250m \u001b[39m\u001b[34;01m.\u001b[39;00m\u001b[34;01m.\u001b[39;00m\u001b[34;01m_utils\u001b[39;00m\u001b[34;01m.\u001b[39;00m\u001b[34;01m_inspect\u001b[39;00m\u001b[38;5;250m \u001b[39m\u001b[38;5;28;01mimport\u001b[39;00m getargspec\n\u001b[32m----> \u001b[39m\u001b[32m7\u001b[39m \u001b[38;5;28;01mfrom\u001b[39;00m\u001b[38;5;250m \u001b[39m\u001b[34;01mnumpy\u001b[39;00m\u001b[34;01m.\u001b[39;00m\u001b[34;01m_core\u001b[39;00m\u001b[34;01m.\u001b[39;00m\u001b[34;01m_multiarray_umath\u001b[39;00m\u001b[38;5;250m \u001b[39m\u001b[38;5;28;01mimport\u001b[39;00m (\n\u001b[32m      8\u001b[39m     add_docstring,  _get_implementing_args, _ArrayFunctionDispatcher)\n\u001b[32m     11\u001b[39m ARRAY_FUNCTIONS = \u001b[38;5;28mset\u001b[39m()\n",
      "\u001b[31mImportError\u001b[39m: dlopen(/opt/anaconda3/envs/mkdocs/lib/python3.13/site-packages/numpy/_core/_multiarray_umath.cpython-313-darwin.so, 0x0002): Library not loaded: @rpath/libgfortran.5.dylib\n  Referenced from: <CAA510D4-816A-34E5-9021-485EF5D56159> /opt/anaconda3/envs/mkdocs/lib/libopenblas.0.dylib\n  Reason: tried: '/opt/anaconda3/envs/mkdocs/lib/libgfortran.5.dylib' (duplicate LC_RPATH '@loader_path'), '/opt/anaconda3/envs/mkdocs/lib/libgfortran.5.dylib' (duplicate LC_RPATH '@loader_path'), '/opt/anaconda3/envs/mkdocs/lib/python3.13/site-packages/numpy/_core/../../../../libgfortran.5.dylib' (duplicate LC_RPATH '@loader_path'), '/opt/anaconda3/envs/mkdocs/lib/python3.13/site-packages/numpy/_core/../../../../libgfortran.5.dylib' (duplicate LC_RPATH '@loader_path'), '/opt/anaconda3/envs/mkdocs/bin/../lib/libgfortran.5.dylib' (duplicate LC_RPATH '@loader_path'), '/opt/anaconda3/envs/mkdocs/bin/../lib/libgfortran.5.dylib' (duplicate LC_RPATH '@loader_path'), '/usr/local/lib/libgfortran.5.dylib' (no such file), '/usr/lib/libgfortran.5.dylib' (no such file, not in dyld cache)",
      "\nDuring handling of the above exception, another exception occurred:\n",
      "\u001b[31mImportError\u001b[39m                               Traceback (most recent call last)",
      "\u001b[36mFile \u001b[39m\u001b[32m/opt/anaconda3/envs/mkdocs/lib/python3.13/site-packages/numpy/__init__.py:114\u001b[39m\n\u001b[32m    113\u001b[39m \u001b[38;5;28;01mtry\u001b[39;00m:\n\u001b[32m--> \u001b[39m\u001b[32m114\u001b[39m     \u001b[38;5;28;01mfrom\u001b[39;00m\u001b[38;5;250m \u001b[39m\u001b[34;01mnumpy\u001b[39;00m\u001b[34;01m.\u001b[39;00m\u001b[34;01m__config__\u001b[39;00m\u001b[38;5;250m \u001b[39m\u001b[38;5;28;01mimport\u001b[39;00m show_config\n\u001b[32m    115\u001b[39m \u001b[38;5;28;01mexcept\u001b[39;00m \u001b[38;5;167;01mImportError\u001b[39;00m \u001b[38;5;28;01mas\u001b[39;00m e:\n",
      "\u001b[36mFile \u001b[39m\u001b[32m/opt/anaconda3/envs/mkdocs/lib/python3.13/site-packages/numpy/__config__.py:4\u001b[39m\n\u001b[32m      3\u001b[39m \u001b[38;5;28;01mfrom\u001b[39;00m\u001b[38;5;250m \u001b[39m\u001b[34;01menum\u001b[39;00m\u001b[38;5;250m \u001b[39m\u001b[38;5;28;01mimport\u001b[39;00m Enum\n\u001b[32m----> \u001b[39m\u001b[32m4\u001b[39m \u001b[38;5;28;01mfrom\u001b[39;00m\u001b[38;5;250m \u001b[39m\u001b[34;01mnumpy\u001b[39;00m\u001b[34;01m.\u001b[39;00m\u001b[34;01m_core\u001b[39;00m\u001b[34;01m.\u001b[39;00m\u001b[34;01m_multiarray_umath\u001b[39;00m\u001b[38;5;250m \u001b[39m\u001b[38;5;28;01mimport\u001b[39;00m (\n\u001b[32m      5\u001b[39m     __cpu_features__,\n\u001b[32m      6\u001b[39m     __cpu_baseline__,\n\u001b[32m      7\u001b[39m     __cpu_dispatch__,\n\u001b[32m      8\u001b[39m )\n\u001b[32m     10\u001b[39m __all__ = [\u001b[33m\"\u001b[39m\u001b[33mshow_config\u001b[39m\u001b[33m\"\u001b[39m]\n",
      "\u001b[36mFile \u001b[39m\u001b[32m/opt/anaconda3/envs/mkdocs/lib/python3.13/site-packages/numpy/_core/__init__.py:49\u001b[39m\n\u001b[32m     26\u001b[39m     msg = \u001b[33m\"\"\"\u001b[39m\n\u001b[32m     27\u001b[39m \n\u001b[32m     28\u001b[39m \u001b[33mIMPORTANT: PLEASE READ THIS FOR ADVICE ON HOW TO SOLVE THIS ISSUE!\u001b[39m\n\u001b[32m   (...)\u001b[39m\u001b[32m     47\u001b[39m \u001b[33m\"\"\"\u001b[39m % (sys.version_info[\u001b[32m0\u001b[39m], sys.version_info[\u001b[32m1\u001b[39m], sys.executable,\n\u001b[32m     48\u001b[39m         __version__, exc)\n\u001b[32m---> \u001b[39m\u001b[32m49\u001b[39m     \u001b[38;5;28;01mraise\u001b[39;00m \u001b[38;5;167;01mImportError\u001b[39;00m(msg)\n\u001b[32m     50\u001b[39m \u001b[38;5;28;01mfinally\u001b[39;00m:\n",
      "\u001b[31mImportError\u001b[39m: \n\nIMPORTANT: PLEASE READ THIS FOR ADVICE ON HOW TO SOLVE THIS ISSUE!\n\nImporting the numpy C-extensions failed. This error can happen for\nmany reasons, often due to issues with your setup or how NumPy was\ninstalled.\n\nWe have compiled some common reasons and troubleshooting tips at:\n\n    https://numpy.org/devdocs/user/troubleshooting-importerror.html\n\nPlease note and check the following:\n\n  * The Python version is: Python3.13 from \"/opt/anaconda3/envs/mkdocs/bin/python\"\n  * The NumPy version is: \"2.2.2\"\n\nand make sure that they are the versions you expect.\nPlease carefully study the documentation linked above for further help.\n\nOriginal error was: dlopen(/opt/anaconda3/envs/mkdocs/lib/python3.13/site-packages/numpy/_core/_multiarray_umath.cpython-313-darwin.so, 0x0002): Library not loaded: @rpath/libgfortran.5.dylib\n  Referenced from: <CAA510D4-816A-34E5-9021-485EF5D56159> /opt/anaconda3/envs/mkdocs/lib/libopenblas.0.dylib\n  Reason: tried: '/opt/anaconda3/envs/mkdocs/lib/libgfortran.5.dylib' (duplicate LC_RPATH '@loader_path'), '/opt/anaconda3/envs/mkdocs/lib/libgfortran.5.dylib' (duplicate LC_RPATH '@loader_path'), '/opt/anaconda3/envs/mkdocs/lib/python3.13/site-packages/numpy/_core/../../../../libgfortran.5.dylib' (duplicate LC_RPATH '@loader_path'), '/opt/anaconda3/envs/mkdocs/lib/python3.13/site-packages/numpy/_core/../../../../libgfortran.5.dylib' (duplicate LC_RPATH '@loader_path'), '/opt/anaconda3/envs/mkdocs/bin/../lib/libgfortran.5.dylib' (duplicate LC_RPATH '@loader_path'), '/opt/anaconda3/envs/mkdocs/bin/../lib/libgfortran.5.dylib' (duplicate LC_RPATH '@loader_path'), '/usr/local/lib/libgfortran.5.dylib' (no such file), '/usr/lib/libgfortran.5.dylib' (no such file, not in dyld cache)\n",
      "\nThe above exception was the direct cause of the following exception:\n",
      "\u001b[31mImportError\u001b[39m                               Traceback (most recent call last)",
      "\u001b[36mCell\u001b[39m\u001b[36m \u001b[39m\u001b[32mIn[1]\u001b[39m\u001b[32m, line 1\u001b[39m\n\u001b[32m----> \u001b[39m\u001b[32m1\u001b[39m \u001b[38;5;28;01mimport\u001b[39;00m\u001b[38;5;250m \u001b[39m\u001b[34;01mnumpy\u001b[39;00m\u001b[38;5;250m \u001b[39m\u001b[38;5;28;01mas\u001b[39;00m\u001b[38;5;250m \u001b[39m\u001b[34;01mnp\u001b[39;00m\n\u001b[32m      2\u001b[39m \u001b[38;5;28;01mimport\u001b[39;00m\u001b[38;5;250m \u001b[39m\u001b[34;01mpandas\u001b[39;00m\u001b[38;5;250m \u001b[39m\u001b[38;5;28;01mas\u001b[39;00m\u001b[38;5;250m \u001b[39m\u001b[34;01mpd\u001b[39;00m\n\u001b[32m      3\u001b[39m \u001b[38;5;28;01mfrom\u001b[39;00m\u001b[38;5;250m \u001b[39m\u001b[34;01mitables\u001b[39;00m\u001b[38;5;250m \u001b[39m\u001b[38;5;28;01mimport\u001b[39;00m init_notebook_mode, show\n",
      "\u001b[36mFile \u001b[39m\u001b[32m/opt/anaconda3/envs/mkdocs/lib/python3.13/site-packages/numpy/__init__.py:119\u001b[39m\n\u001b[32m    115\u001b[39m \u001b[38;5;28;01mexcept\u001b[39;00m \u001b[38;5;167;01mImportError\u001b[39;00m \u001b[38;5;28;01mas\u001b[39;00m e:\n\u001b[32m    116\u001b[39m     msg = \u001b[33m\"\"\"\u001b[39m\u001b[33mError importing numpy: you should not try to import numpy from\u001b[39m\n\u001b[32m    117\u001b[39m \u001b[33m    its source directory; please exit the numpy source tree, and relaunch\u001b[39m\n\u001b[32m    118\u001b[39m \u001b[33m    your python interpreter from there.\u001b[39m\u001b[33m\"\"\"\u001b[39m\n\u001b[32m--> \u001b[39m\u001b[32m119\u001b[39m     \u001b[38;5;28;01mraise\u001b[39;00m \u001b[38;5;167;01mImportError\u001b[39;00m(msg) \u001b[38;5;28;01mfrom\u001b[39;00m\u001b[38;5;250m \u001b[39m\u001b[34;01me\u001b[39;00m\n\u001b[32m    121\u001b[39m \u001b[38;5;28;01mfrom\u001b[39;00m\u001b[38;5;250m \u001b[39m\u001b[34;01m.\u001b[39;00m\u001b[38;5;250m \u001b[39m\u001b[38;5;28;01mimport\u001b[39;00m _core\n\u001b[32m    122\u001b[39m \u001b[38;5;28;01mfrom\u001b[39;00m\u001b[38;5;250m \u001b[39m\u001b[34;01m.\u001b[39;00m\u001b[34;01m_core\u001b[39;00m\u001b[38;5;250m \u001b[39m\u001b[38;5;28;01mimport\u001b[39;00m (\n\u001b[32m    123\u001b[39m     False_, ScalarType, True_,\n\u001b[32m    124\u001b[39m     \u001b[38;5;28mabs\u001b[39m, absolute, acos, acosh, add, \u001b[38;5;28mall\u001b[39m, allclose,\n\u001b[32m   (...)\u001b[39m\u001b[32m    169\u001b[39m     vecmat, void, vstack, where, zeros, zeros_like\n\u001b[32m    170\u001b[39m )\n",
      "\u001b[31mImportError\u001b[39m: Error importing numpy: you should not try to import numpy from\n        its source directory; please exit the numpy source tree, and relaunch\n        your python interpreter from there."
     ]
    }
   ],
   "source": [
    "import numpy as np\n",
    "import pandas as pd\n",
    "from itables import init_notebook_mode, show\n",
    "init_notebook_mode(all_interactive=True)\n",
    "import itables.options as opt\n",
    "\n",
    "opt.classes=\"display\"\n",
    "opt.buttons=[\"copyHtml5\", \"csvHtml5\", \"excelHtml5\"]\n",
    "opt.maxBytes=0\n",
    "from cdapython import *\n",
    "set_api_url(\"https://cda-dev.datacommons.cancer.gov/\")"
   ]
  },
  {
   "cell_type": "markdown",
   "id": "5e7a0890-bee3-44ef-aa31-648d5280fd39",
   "metadata": {
    "editable": true,
    "slideshow": {
     "slide_type": ""
    },
    "tags": []
   },
   "source": [
    "## Get a list of searchable CDA tables"
   ]
  },
  {
   "cell_type": "code",
   "execution_count": 4,
   "id": "d076063f-e604-4c8f-b875-91f89fee2ca4",
   "metadata": {
    "editable": true,
    "scrolled": true,
    "slideshow": {
     "slide_type": ""
    },
    "tags": []
   },
   "outputs": [
    {
     "name": "stderr",
     "output_type": "stream",
     "text": [
      "WARNING:urllib3.connectionpool:Retrying (Retry(total=2, connect=None, read=None, redirect=None, status=None)) after connection broken by 'SSLError(SSLError(5, '[SSL: CERTIFICATE_VERIFY_FAILED] certificate verify failed (_ssl.c:1129)'))': /api/v1/columns\n",
      "WARNING:urllib3.connectionpool:Retrying (Retry(total=1, connect=None, read=None, redirect=None, status=None)) after connection broken by 'SSLError(SSLError(5, '[SSL: CERTIFICATE_VERIFY_FAILED] certificate verify failed (_ssl.c:1129)'))': /api/v1/columns\n",
      "WARNING:urllib3.connectionpool:Retrying (Retry(total=0, connect=None, read=None, redirect=None, status=None)) after connection broken by 'SSLError(SSLError(5, '[SSL: CERTIFICATE_VERIFY_FAILED] certificate verify failed (_ssl.c:1129)'))': /api/v1/columns\n",
      "columns(): ERROR: Can't connect to the CDA API service.\n"
     ]
    },
    {
     "ename": "TypeError",
     "evalue": "'NoneType' object is not subscriptable",
     "output_type": "error",
     "traceback": [
      "\u001b[0;31m---------------------------------------------------------------------------\u001b[0m",
      "\u001b[0;31mTypeError\u001b[0m                                 Traceback (most recent call last)",
      "Cell \u001b[0;32mIn[4], line 1\u001b[0m\n\u001b[0;32m----> 1\u001b[0m \u001b[43mtables\u001b[49m\u001b[43m(\u001b[49m\u001b[43m)\u001b[49m\n",
      "File \u001b[0;32m/opt/homebrew/Caskroom/miniconda/base/envs/live-mvp/lib/python3.9/site-packages/cdapython/data_exploration.py:49\u001b[0m, in \u001b[0;36mtables\u001b[0;34m()\u001b[0m\n\u001b[1;32m     32\u001b[0m \u001b[38;5;250m\u001b[39m\u001b[38;5;124;03m\"\"\"\u001b[39;00m\n\u001b[1;32m     33\u001b[0m \u001b[38;5;124;03mGet a list of all searchable CDA data tables.\u001b[39;00m\n\u001b[1;32m     34\u001b[0m \n\u001b[1;32m     35\u001b[0m \u001b[38;5;124;03mReturns:\u001b[39;00m\n\u001b[1;32m     36\u001b[0m \u001b[38;5;124;03m    list of strings: names of searchable CDA tables.\u001b[39;00m\n\u001b[1;32m     37\u001b[0m \u001b[38;5;124;03m\"\"\"\u001b[39;00m\n\u001b[1;32m     39\u001b[0m \u001b[38;5;66;03m# Wrap columns(), scrape out the relevant results, and return as a sorted list.\u001b[39;00m\n\u001b[1;32m     40\u001b[0m \u001b[38;5;66;03m# \u001b[39;00m\n\u001b[1;32m     41\u001b[0m \u001b[38;5;66;03m# We are aware that this is inefficient. At time of writing we're trying very hard not to perturb\u001b[39;00m\n\u001b[0;32m   (...)\u001b[0m\n\u001b[1;32m     46\u001b[0m \u001b[38;5;66;03m# Call columns(), extract unique values from the `table` column of the\u001b[39;00m\n\u001b[1;32m     47\u001b[0m \u001b[38;5;66;03m# resulting DataFrame, and return those values to the user as a list.\u001b[39;00m\n\u001b[0;32m---> 49\u001b[0m \u001b[38;5;28;01mreturn\u001b[39;00m \u001b[38;5;28msorted\u001b[39m( \u001b[43mcolumns\u001b[49m\u001b[43m(\u001b[49m\u001b[43m \u001b[49m\u001b[43mreturn_data_as\u001b[49m\u001b[38;5;241;43m=\u001b[39;49m\u001b[38;5;124;43m'\u001b[39;49m\u001b[38;5;124;43mdataframe\u001b[39;49m\u001b[38;5;124;43m'\u001b[39;49m\u001b[43m \u001b[49m\u001b[43m)\u001b[49m\u001b[43m[\u001b[49m\u001b[38;5;124;43m'\u001b[39;49m\u001b[38;5;124;43mtable\u001b[39;49m\u001b[38;5;124;43m'\u001b[39;49m\u001b[43m]\u001b[49m\u001b[38;5;241m.\u001b[39munique() )\n",
      "\u001b[0;31mTypeError\u001b[0m: 'NoneType' object is not subscriptable"
     ]
    }
   ],
   "source": [
    "tables()"
   ]
  },
  {
   "cell_type": "markdown",
   "id": "9e77d05c-4a98-42db-8536-222c4d68b0ad",
   "metadata": {},
   "source": [
    "## Explore CDA tables' columns in detail"
   ]
  },
  {
   "cell_type": "code",
   "execution_count": null,
   "id": "7ffa9f33-c5f9-4e38-bd1c-8037ee27a044",
   "metadata": {
    "scrolled": true
   },
   "outputs": [],
   "source": [
    "columns()"
   ]
  },
  {
   "cell_type": "markdown",
   "id": "fdecc597-ada1-4350-aa14-12b069df5003",
   "metadata": {},
   "source": [
    "## See what values are populated in a given column"
   ]
  },
  {
   "cell_type": "code",
   "execution_count": null,
   "id": "deb45de6-aae3-44fb-924a-4d815d5bbffc",
   "metadata": {
    "editable": true,
    "scrolled": true,
    "slideshow": {
     "slide_type": ""
    },
    "tags": []
   },
   "outputs": [],
   "source": [
    "column_values( 'primary_diagnosis_site' )"
   ]
  },
  {
   "cell_type": "markdown",
   "id": "a2896b23-219f-46b9-bb30-0ccee52cd782",
   "metadata": {
    "editable": true,
    "slideshow": {
     "slide_type": ""
    },
    "tags": []
   },
   "source": [
    "## Fetch subject row summary information for a column value"
   ]
  },
  {
   "cell_type": "code",
   "execution_count": null,
   "id": "26db8d63-f64a-489f-907d-c57c9a1360e3",
   "metadata": {
    "editable": true,
    "scrolled": true,
    "slideshow": {
     "slide_type": ""
    },
    "tags": []
   },
   "outputs": [],
   "source": [
    "summarize_subjects( match_all = 'primary_diagnosis_site = kid*')"
   ]
  },
  {
   "cell_type": "markdown",
   "id": "405c2ab3-872e-4e51-9448-f79a188b55c5",
   "metadata": {},
   "source": [
    "## Fetch rows from any table for a column value"
   ]
  },
  {
   "cell_type": "raw",
   "id": "709d394e-d154-4bd9-93b6-503143112e9e",
   "metadata": {
    "editable": true,
    "raw_mimetype": "text/html",
    "slideshow": {
     "slide_type": ""
    },
    "tags": [],
    "vscode": {
     "languageId": "raw"
    }
   },
   "source": [
    "\n",
    "\n",
    "<div class=\"tabbed-set tabbed-alternate\" data-tabs=\"1:6\"><input checked=\"checked\" id=\"__tabbed_1_1\" name=\"__tabbed_1\" type=\"radio\" /><input id=\"__tabbed_1_2\" name=\"__tabbed_1\" type=\"radio\" /><input id=\"__tabbed_1_3\" name=\"__tabbed_1\" type=\"radio\" /><input id=\"__tabbed_1_4\" name=\"__tabbed_1\" type=\"radio\" /><input id=\"__tabbed_1_5\" name=\"__tabbed_1\" type=\"radio\" /><input id=\"__tabbed_1_6\" name=\"__tabbed_1\" type=\"radio\" /><div class=\"tabbed-labels\"><label for=\"__tabbed_1_1\">subject data</label><label for=\"__tabbed_1_2\">research subject data</label><label for=\"__tabbed_1_3\">specimen data</label><label for=\"__tabbed_1_4\">diagnosis data</label><label for=\"__tabbed_1_5\">treatment data</label><label for=\"__tabbed_1_6\">mutation data</label></div>\n",
    "<div class=\"tabbed-content\">\n",
    "<div class=\"tabbed-block\">\n",
    "<div class=\"highlight\"><table class=\"highlighttable\"><tr><td class=\"linenos\"><div class=\"linenodiv\"><pre><span></span><span class=\"normal\">1</span></pre></div></td><td class=\"code\"><div><pre><span></span><code><span class=\"n\">fetch_rows</span><span class=\"p\">(</span> <span class=\"n\">table</span><span class=\"o\">=</span> <span class=\"s2\">&quot;subject&quot;</span><span class=\"p\">,</span> <span class=\"n\">match_all</span><span class=\"o\">=</span><span class=\"s1\">&#39;primary_diagnosis_site = kid*&#39;</span> <span class=\"p\">)</span>\n",
    "</code></pre></div></td></tr></table></div>\n",
    "</div>\n",
    "<div class=\"tabbed-block\">\n",
    "<div class=\"highlight\"><table class=\"highlighttable\"><tr><td class=\"linenos\"><div class=\"linenodiv\"><pre><span></span><span class=\"normal\">1</span></pre></div></td><td class=\"code\"><div><pre><span></span><code><span class=\"n\">fetch_rows</span><span class=\"p\">(</span> <span class=\"n\">table</span><span class=\"o\">=</span> <span class=\"s2\">&quot;researchsubject&quot;</span><span class=\"p\">,</span> <span class=\"n\">match_all</span><span class=\"o\">=</span><span class=\"s1\">&#39;primary_diagnosis_site = kid*&#39;</span> <span class=\"p\">)</span>\n",
    "</code></pre></div></td></tr></table></div>\n",
    "</div>\n",
    "<div class=\"tabbed-block\">\n",
    "<div class=\"highlight\"><table class=\"highlighttable\"><tr><td class=\"linenos\"><div class=\"linenodiv\"><pre><span></span><span class=\"normal\">1</span></pre></div></td><td class=\"code\"><div><pre><span></span><code><span class=\"n\">fetch_rows</span><span class=\"p\">(</span> <span class=\"n\">table</span><span class=\"o\">=</span> <span class=\"s2\">&quot;specimen&quot;</span><span class=\"p\">,</span> <span class=\"n\">match_all</span><span class=\"o\">=</span><span class=\"s1\">&#39;primary_diagnosis_site = kid*&#39;</span> <span class=\"p\">)</span>\n",
    "</code></pre></div></td></tr></table></div>\n",
    "</div>\n",
    "<div class=\"tabbed-block\">\n",
    "<div class=\"highlight\"><table class=\"highlighttable\"><tr><td class=\"linenos\"><div class=\"linenodiv\"><pre><span></span><span class=\"normal\">1</span></pre></div></td><td class=\"code\"><div><pre><span></span><code><span class=\"n\">fetch_rows</span><span class=\"p\">(</span> <span class=\"n\">table</span><span class=\"o\">=</span> <span class=\"s2\">&quot;diagnosis&quot;</span><span class=\"p\">,</span> <span class=\"n\">match_all</span><span class=\"o\">=</span><span class=\"s1\">&#39;primary_diagnosis_site = kid*&#39;</span> <span class=\"p\">)</span>\n",
    "</code></pre></div></td></tr></table></div>\n",
    "</div>\n",
    "<div class=\"tabbed-block\">\n",
    "<div class=\"highlight\"><table class=\"highlighttable\"><tr><td class=\"linenos\"><div class=\"linenodiv\"><pre><span></span><span class=\"normal\">1</span></pre></div></td><td class=\"code\"><div><pre><span></span><code><span class=\"n\">fetch_rows</span><span class=\"p\">(</span> <span class=\"n\">table</span><span class=\"o\">=</span> <span class=\"s2\">&quot;treatment&quot;</span><span class=\"p\">,</span> <span class=\"n\">match_all</span><span class=\"o\">=</span><span class=\"s1\">&#39;primary_diagnosis_site = kid*&#39;</span> <span class=\"p\">)</span>\n",
    "</code></pre></div></td></tr></table></div>\n",
    "</div>\n",
    "<div class=\"tabbed-block\">\n",
    "<div class=\"highlight\"><table class=\"highlighttable\"><tr><td class=\"linenos\"><div class=\"linenodiv\"><pre><span></span><span class=\"normal\">1</span></pre></div></td><td class=\"code\"><div><pre><span></span><code><span class=\"n\">fetch_rows</span><span class=\"p\">(</span> <span class=\"n\">table</span><span class=\"o\">=</span> <span class=\"s2\">&quot;mutation&quot;</span><span class=\"p\">,</span> <span class=\"n\">match_all</span><span class=\"o\">=</span><span class=\"s1\">&#39;primary_diagnosis_site = kid*&#39;</span> <span class=\"p\">)</span>\n",
    "</code></pre></div></td></tr></table></div>\n",
    "</div>\n",
    "</div>\n",
    "</div>\n"
   ]
  },
  {
   "cell_type": "markdown",
   "id": "c4e56bc6-6c64-4166-bc25-517a4c2c90b6",
   "metadata": {},
   "source": [
    "## Fetch subject rows for a column value"
   ]
  },
  {
   "cell_type": "code",
   "execution_count": null,
   "id": "3a5cebe9-fba9-4f7a-b391-fef317e343c7",
   "metadata": {
    "editable": true,
    "scrolled": true,
    "slideshow": {
     "slide_type": ""
    },
    "tags": []
   },
   "outputs": [],
   "source": [
    "get_subject_data( match_all = 'subject_id = TCGA.TCGA-04-1369')"
   ]
  }
 ],
 "metadata": {
  "kernelspec": {
   "display_name": "mkdocs",
   "language": "python",
   "name": "python3"
  },
  "language_info": {
   "codemirror_mode": {
    "name": "ipython",
    "version": 3
   },
   "file_extension": ".py",
   "mimetype": "text/x-python",
   "name": "python",
   "nbconvert_exporter": "python",
   "pygments_lexer": "ipython3",
   "version": "3.13.1"
  }
 },
 "nbformat": 4,
 "nbformat_minor": 5
}
