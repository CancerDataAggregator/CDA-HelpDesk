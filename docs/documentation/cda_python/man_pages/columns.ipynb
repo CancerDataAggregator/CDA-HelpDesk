{
 "cells": [
  {
   "cell_type": "code",
   "execution_count": null,
   "id": "0fd94d56-97de-4611-8388-0808a85625bf",
   "metadata": {
    "editable": true,
    "slideshow": {
     "slide_type": ""
    },
    "tags": [
     "hide_code"
    ]
   },
   "outputs": [],
   "source": [
    "from cdapython.data_exploration import tables, columns, column_values, column_data_types\n",
    "from cdapython.fetch import fetch_rows\n",
    "from cdapython.query import summary_counts\n",
    "#hide_code"
   ]
  },
  {
   "cell_type": "code",
   "execution_count": 5,
   "id": "d076063f-e604-4c8f-b875-91f89fee2ca4",
   "metadata": {},
   "outputs": [
    {
     "name": "stdout",
     "output_type": "stream",
     "text": [
      "Help on function tables in module cdapython.data_exploration:\n",
      "\n",
      "tables()\n",
      "    Get a list of all searchable CDA data tables.\n",
      "    \n",
      "    Returns:\n",
      "        list of strings: names of searchable CDA tables.\n",
      "\n"
     ]
    }
   ],
   "source": [
    "help(columns)"
   ]
  }
 ],
 "metadata": {
  "kernelspec": {
   "display_name": "Python 3 (ipykernel)",
   "language": "python",
   "name": "python3"
  },
  "language_info": {
   "codemirror_mode": {
    "name": "ipython",
    "version": 3
   },
   "file_extension": ".py",
   "mimetype": "text/x-python",
   "name": "python",
   "nbconvert_exporter": "python",
   "pygments_lexer": "ipython3",
   "version": "3.11.4"
  }
 },
 "nbformat": 4,
 "nbformat_minor": 5
}
