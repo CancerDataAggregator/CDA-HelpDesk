{
 "cells": [
  {
   "cell_type": "markdown",
   "id": "eca240c6",
   "metadata": {},
   "source": [
    "# Getting Results (Pagination)"
   ]
  },
  {
   "cell_type": "markdown",
   "id": "397c69af",
   "metadata": {},
   "source": [
    "\n",
    "The CDA provides a custom python tool for searching CDA data. [`Q`](usage/#q) (short for Query) offers several ways to search and filter data, and several input modes:\n",
    "\n",
    "---\n",
    "- **<a href=\"../../QuickStart/usage/#q\">Q.()</a>** builds a query that can be used by `run()` or `count()`\n",
    "- **<a href=\"../../QuickStart/usage/#qrun\">Q.run()</a>** returns data for the specified search \n",
    "- **<a href=\"../../QuickStart/usage/#qcount\">Q.count()</a>** returns summary information (counts) data that fit the specified search\n",
    "- **<a href=\"../../QuickStart/usage/#columns\">columns()</a>** returns entity field names\n",
    "- **<a href=\"../../QuickStart/usage/#unique_terms\">unique_terms()</a>** returns entity field contents\n",
    "\n",
    "---\n",
    "                                                                    \n",
    "Before we do any work, we needs to import these functions cdapython.\n",
    "We're also telling cdapython to report it's version so we can be sure we're using the one we mean to:"
   ]
  },
  {
   "cell_type": "code",
   "execution_count": 1,
   "id": "4c49e9a0",
   "metadata": {},
   "outputs": [
    {
     "name": "stdout",
     "output_type": "stream",
     "text": [
      "2022.6.22\n"
     ]
    }
   ],
   "source": [
    "from cdapython import Q, columns, unique_terms, query\n",
    "import pandas as pd \n",
    "print(Q.get_version())"
   ]
  },
  {
   "cell_type": "code",
   "execution_count": null,
   "id": "4c91c513",
   "metadata": {},
   "outputs": [],
   "source": [
    "Q.set_default_project_dataset(\"broad-dsde-dev.cda_dev\")\n",
    "Q.set_host_url(\"https://cancerdata.dsde-dev.broadinstitute.org/\")\n",
    "Q.get_host_url()\n",
    "Q.get_default_project_dataset()"
   ]
  },
  {
   "cell_type": "markdown",
   "id": "dc806cf9",
   "metadata": {},
   "source": [
    "The CDA indexes tens of thousands of subjects, researchsubjects, speciments, and their diagnosis data. CDA also indexes more than 45 million files. To keep search results from being overwhelming, CDA limits search results to the first 100 records by default:"
   ]
  },
  {
   "cell_type": "code",
   "execution_count": 13,
   "id": "f20a48d1",
   "metadata": {
    "scrolled": true
   },
   "outputs": [
    {
     "data": {
      "text/html": [
       "<pre style=\"white-space:pre;overflow-x:auto;line-height:normal;font-family:Menlo,'DejaVu Sans Mono',consolas,'Courier New',monospace\">Getting results from database\n",
       "\n",
       "</pre>\n"
      ],
      "text/plain": [
       "Getting results from database\n",
       "\n"
      ]
     },
     "metadata": {},
     "output_type": "display_data"
    },
    {
     "name": "stdout",
     "output_type": "stream",
     "text": [
      "Total execution time: 3213 ms\n"
     ]
    },
    {
     "data": {
      "text/plain": [
       "\n",
       "            QueryID: 7b243902-1151-438d-a2e8-3b2459257019\n",
       "            \n",
       "            Offset: 0\n",
       "            Count: 100\n",
       "            Total Row Count: 2314\n",
       "            More pages: True\n",
       "            "
      ]
     },
     "execution_count": 13,
     "metadata": {},
     "output_type": "execute_result"
    }
   ],
   "source": [
    "myquery = Q('ResearchSubject.primary_diagnosis_site = \"brain\"')\n",
    "myquery.subject.run()"
   ]
  },
  {
   "cell_type": "markdown",
   "id": "72582e92",
   "metadata": {},
   "source": [
    "\n",
    "---\n",
    "\n",
    "- **Offset:** This is how many rows of information we've told the query to skip in the data, here we didn't tell it to skip anything, so the offset is zero\n",
    "- **Count:** This is how many rows the current page of our results table has. To keep searches fast, we default to pages with 100 rows.\n",
    "- **Total Row Count:** This is how many rows are in the full results table\n",
    "- **More pages:** This is always a True or False. False means that our current page has all the available results. True means that we will see only the first 100 results in this table, and will need to page through for more.\n",
    "\n",
    "---"
   ]
  },
  {
   "cell_type": "markdown",
   "id": "19ae2e2a",
   "metadata": {},
   "source": [
    "This preview behaviour is great for search, but not when you are ready to download the information. The pagination feature is how you retreive all the results for your final query and not just the first 100. \n",
    "\n",
    "You can have your full results output to a dataframe or a list.\n",
    "\n",
    "## Results to a dataframe\n",
    "\n",
    "To use it, you create an empty dataframe for the data to land in, then use the paginator in a loop to get all the results:"
   ]
  },
  {
   "cell_type": "code",
   "execution_count": 15,
   "id": "04600790",
   "metadata": {},
   "outputs": [
    {
     "data": {
      "text/html": [
       "<pre style=\"white-space:pre;overflow-x:auto;line-height:normal;font-family:Menlo,'DejaVu Sans Mono',consolas,'Courier New',monospace\">Getting results from database\n",
       "\n",
       "</pre>\n"
      ],
      "text/plain": [
       "Getting results from database\n",
       "\n"
      ]
     },
     "metadata": {},
     "output_type": "display_data"
    },
    {
     "name": "stdout",
     "output_type": "stream",
     "text": [
      "Total execution time: 3341 ms\n"
     ]
    }
   ],
   "source": [
    "mydf = pd.DataFrame()\n",
    "for i in myquery.subject.run().paginator(to_df=True):\n",
    "    mydf = pd.concat([mydf, i])"
   ]
  },
  {
   "cell_type": "code",
   "execution_count": 16,
   "id": "0f26fb01",
   "metadata": {},
   "outputs": [
    {
     "data": {
      "text/html": [
       "<div>\n",
       "<style scoped>\n",
       "    .dataframe tbody tr th:only-of-type {\n",
       "        vertical-align: middle;\n",
       "    }\n",
       "\n",
       "    .dataframe tbody tr th {\n",
       "        vertical-align: top;\n",
       "    }\n",
       "\n",
       "    .dataframe thead th {\n",
       "        text-align: right;\n",
       "    }\n",
       "</style>\n",
       "<table border=\"1\" class=\"dataframe\">\n",
       "  <thead>\n",
       "    <tr style=\"text-align: right;\">\n",
       "      <th></th>\n",
       "      <th>id</th>\n",
       "      <th>identifier</th>\n",
       "      <th>species</th>\n",
       "      <th>sex</th>\n",
       "      <th>race</th>\n",
       "      <th>ethnicity</th>\n",
       "      <th>days_to_birth</th>\n",
       "      <th>subject_associated_project</th>\n",
       "      <th>vital_status</th>\n",
       "      <th>age_at_death</th>\n",
       "      <th>cause_of_death</th>\n",
       "    </tr>\n",
       "  </thead>\n",
       "  <tbody>\n",
       "    <tr>\n",
       "      <th>0</th>\n",
       "      <td>900-00-5445</td>\n",
       "      <td>[{'system': 'IDC', 'value': '900-00-5445'}]</td>\n",
       "      <td>Homo sapiens</td>\n",
       "      <td>None</td>\n",
       "      <td>None</td>\n",
       "      <td>None</td>\n",
       "      <td>NaN</td>\n",
       "      <td>[rembrandt]</td>\n",
       "      <td>None</td>\n",
       "      <td>NaN</td>\n",
       "      <td>None</td>\n",
       "    </tr>\n",
       "    <tr>\n",
       "      <th>1</th>\n",
       "      <td>C16974</td>\n",
       "      <td>[{'system': 'PDC', 'value': 'C16974'}]</td>\n",
       "      <td>Homo sapiens</td>\n",
       "      <td>male</td>\n",
       "      <td>white</td>\n",
       "      <td>not hispanic or latino</td>\n",
       "      <td>NaN</td>\n",
       "      <td>[Proteogenomic Analysis of Pediatric Brain Can...</td>\n",
       "      <td>Alive</td>\n",
       "      <td>NaN</td>\n",
       "      <td>Not Reported</td>\n",
       "    </tr>\n",
       "    <tr>\n",
       "      <th>2</th>\n",
       "      <td>C270477</td>\n",
       "      <td>[{'system': 'PDC', 'value': 'C270477'}]</td>\n",
       "      <td>Homo sapiens</td>\n",
       "      <td>male</td>\n",
       "      <td>white</td>\n",
       "      <td>not hispanic or latino</td>\n",
       "      <td>NaN</td>\n",
       "      <td>[Proteogenomic Analysis of Pediatric Brain Can...</td>\n",
       "      <td>Alive</td>\n",
       "      <td>NaN</td>\n",
       "      <td>Not Reported</td>\n",
       "    </tr>\n",
       "    <tr>\n",
       "      <th>3</th>\n",
       "      <td>C30012</td>\n",
       "      <td>[{'system': 'PDC', 'value': 'C30012'}]</td>\n",
       "      <td>Homo sapiens</td>\n",
       "      <td>male</td>\n",
       "      <td>white</td>\n",
       "      <td>not hispanic or latino</td>\n",
       "      <td>NaN</td>\n",
       "      <td>[Proteogenomic Analysis of Pediatric Brain Can...</td>\n",
       "      <td>Dead</td>\n",
       "      <td>NaN</td>\n",
       "      <td>Not Reported</td>\n",
       "    </tr>\n",
       "    <tr>\n",
       "      <th>4</th>\n",
       "      <td>C38868</td>\n",
       "      <td>[{'system': 'PDC', 'value': 'C38868'}]</td>\n",
       "      <td>Homo sapiens</td>\n",
       "      <td>female</td>\n",
       "      <td>white</td>\n",
       "      <td>not hispanic or latino</td>\n",
       "      <td>NaN</td>\n",
       "      <td>[Proteogenomic Analysis of Pediatric Brain Can...</td>\n",
       "      <td>Alive</td>\n",
       "      <td>NaN</td>\n",
       "      <td>Not Reported</td>\n",
       "    </tr>\n",
       "    <tr>\n",
       "      <th>...</th>\n",
       "      <td>...</td>\n",
       "      <td>...</td>\n",
       "      <td>...</td>\n",
       "      <td>...</td>\n",
       "      <td>...</td>\n",
       "      <td>...</td>\n",
       "      <td>...</td>\n",
       "      <td>...</td>\n",
       "      <td>...</td>\n",
       "      <td>...</td>\n",
       "      <td>...</td>\n",
       "    </tr>\n",
       "    <tr>\n",
       "      <th>9</th>\n",
       "      <td>TCGA-HT-A617</td>\n",
       "      <td>[{'system': 'GDC', 'value': 'TCGA-HT-A617'}, {...</td>\n",
       "      <td>Homo sapiens</td>\n",
       "      <td>male</td>\n",
       "      <td>american indian or alaska native</td>\n",
       "      <td>not reported</td>\n",
       "      <td>-17331.0</td>\n",
       "      <td>[TCGA-LGG, tcga_lgg]</td>\n",
       "      <td>Alive</td>\n",
       "      <td>NaN</td>\n",
       "      <td>None</td>\n",
       "    </tr>\n",
       "    <tr>\n",
       "      <th>10</th>\n",
       "      <td>TCGA-QH-A65X</td>\n",
       "      <td>[{'system': 'GDC', 'value': 'TCGA-QH-A65X'}]</td>\n",
       "      <td>Homo sapiens</td>\n",
       "      <td>female</td>\n",
       "      <td>white</td>\n",
       "      <td>not hispanic or latino</td>\n",
       "      <td>-10440.0</td>\n",
       "      <td>[TCGA-LGG]</td>\n",
       "      <td>Alive</td>\n",
       "      <td>NaN</td>\n",
       "      <td>None</td>\n",
       "    </tr>\n",
       "    <tr>\n",
       "      <th>11</th>\n",
       "      <td>TCGA-S9-A6WQ</td>\n",
       "      <td>[{'system': 'GDC', 'value': 'TCGA-S9-A6WQ'}]</td>\n",
       "      <td>Homo sapiens</td>\n",
       "      <td>female</td>\n",
       "      <td>white</td>\n",
       "      <td>not hispanic or latino</td>\n",
       "      <td>-21133.0</td>\n",
       "      <td>[TCGA-LGG]</td>\n",
       "      <td>Alive</td>\n",
       "      <td>NaN</td>\n",
       "      <td>None</td>\n",
       "    </tr>\n",
       "    <tr>\n",
       "      <th>12</th>\n",
       "      <td>TCGA-S9-A7IZ</td>\n",
       "      <td>[{'system': 'GDC', 'value': 'TCGA-S9-A7IZ'}]</td>\n",
       "      <td>Homo sapiens</td>\n",
       "      <td>female</td>\n",
       "      <td>white</td>\n",
       "      <td>not hispanic or latino</td>\n",
       "      <td>-17874.0</td>\n",
       "      <td>[TCGA-LGG]</td>\n",
       "      <td>Alive</td>\n",
       "      <td>NaN</td>\n",
       "      <td>None</td>\n",
       "    </tr>\n",
       "    <tr>\n",
       "      <th>13</th>\n",
       "      <td>W18</td>\n",
       "      <td>[{'system': 'IDC', 'value': 'W18'}]</td>\n",
       "      <td>Homo sapiens</td>\n",
       "      <td>None</td>\n",
       "      <td>None</td>\n",
       "      <td>None</td>\n",
       "      <td>NaN</td>\n",
       "      <td>[ivygap]</td>\n",
       "      <td>None</td>\n",
       "      <td>NaN</td>\n",
       "      <td>None</td>\n",
       "    </tr>\n",
       "  </tbody>\n",
       "</table>\n",
       "<p>2314 rows × 11 columns</p>\n",
       "</div>"
      ],
      "text/plain": [
       "              id                                         identifier  \\\n",
       "0    900-00-5445        [{'system': 'IDC', 'value': '900-00-5445'}]   \n",
       "1         C16974             [{'system': 'PDC', 'value': 'C16974'}]   \n",
       "2        C270477            [{'system': 'PDC', 'value': 'C270477'}]   \n",
       "3         C30012             [{'system': 'PDC', 'value': 'C30012'}]   \n",
       "4         C38868             [{'system': 'PDC', 'value': 'C38868'}]   \n",
       "..           ...                                                ...   \n",
       "9   TCGA-HT-A617  [{'system': 'GDC', 'value': 'TCGA-HT-A617'}, {...   \n",
       "10  TCGA-QH-A65X       [{'system': 'GDC', 'value': 'TCGA-QH-A65X'}]   \n",
       "11  TCGA-S9-A6WQ       [{'system': 'GDC', 'value': 'TCGA-S9-A6WQ'}]   \n",
       "12  TCGA-S9-A7IZ       [{'system': 'GDC', 'value': 'TCGA-S9-A7IZ'}]   \n",
       "13           W18                [{'system': 'IDC', 'value': 'W18'}]   \n",
       "\n",
       "         species     sex                              race  \\\n",
       "0   Homo sapiens    None                              None   \n",
       "1   Homo sapiens    male                             white   \n",
       "2   Homo sapiens    male                             white   \n",
       "3   Homo sapiens    male                             white   \n",
       "4   Homo sapiens  female                             white   \n",
       "..           ...     ...                               ...   \n",
       "9   Homo sapiens    male  american indian or alaska native   \n",
       "10  Homo sapiens  female                             white   \n",
       "11  Homo sapiens  female                             white   \n",
       "12  Homo sapiens  female                             white   \n",
       "13  Homo sapiens    None                              None   \n",
       "\n",
       "                 ethnicity  days_to_birth  \\\n",
       "0                     None            NaN   \n",
       "1   not hispanic or latino            NaN   \n",
       "2   not hispanic or latino            NaN   \n",
       "3   not hispanic or latino            NaN   \n",
       "4   not hispanic or latino            NaN   \n",
       "..                     ...            ...   \n",
       "9             not reported       -17331.0   \n",
       "10  not hispanic or latino       -10440.0   \n",
       "11  not hispanic or latino       -21133.0   \n",
       "12  not hispanic or latino       -17874.0   \n",
       "13                    None            NaN   \n",
       "\n",
       "                           subject_associated_project vital_status  \\\n",
       "0                                         [rembrandt]         None   \n",
       "1   [Proteogenomic Analysis of Pediatric Brain Can...        Alive   \n",
       "2   [Proteogenomic Analysis of Pediatric Brain Can...        Alive   \n",
       "3   [Proteogenomic Analysis of Pediatric Brain Can...         Dead   \n",
       "4   [Proteogenomic Analysis of Pediatric Brain Can...        Alive   \n",
       "..                                                ...          ...   \n",
       "9                                [TCGA-LGG, tcga_lgg]        Alive   \n",
       "10                                         [TCGA-LGG]        Alive   \n",
       "11                                         [TCGA-LGG]        Alive   \n",
       "12                                         [TCGA-LGG]        Alive   \n",
       "13                                           [ivygap]         None   \n",
       "\n",
       "    age_at_death cause_of_death  \n",
       "0            NaN           None  \n",
       "1            NaN   Not Reported  \n",
       "2            NaN   Not Reported  \n",
       "3            NaN   Not Reported  \n",
       "4            NaN   Not Reported  \n",
       "..           ...            ...  \n",
       "9            NaN           None  \n",
       "10           NaN           None  \n",
       "11           NaN           None  \n",
       "12           NaN           None  \n",
       "13           NaN           None  \n",
       "\n",
       "[2314 rows x 11 columns]"
      ]
     },
     "execution_count": 16,
     "metadata": {},
     "output_type": "execute_result"
    }
   ],
   "source": [
    "mydf  # view the dataframe"
   ]
  },
  {
   "cell_type": "markdown",
   "id": "a7cf4651",
   "metadata": {},
   "source": [
    "## Results to a list\n",
    "\n",
    "Pagination to a list works similarly to the dataframe call. The differences are:\n",
    "\n",
    "- initiate a list not a DataFrame\n",
    "- change `to_list=True`\n",
    "- change the concat index to `extend()`"
   ]
  },
  {
   "cell_type": "code",
   "execution_count": 45,
   "id": "0ee1d319",
   "metadata": {
    "scrolled": true
   },
   "outputs": [
    {
     "data": {
      "text/html": [
       "<pre style=\"white-space:pre;overflow-x:auto;line-height:normal;font-family:Menlo,'DejaVu Sans Mono',consolas,'Courier New',monospace\">Getting results from database\n",
       "\n",
       "</pre>\n"
      ],
      "text/plain": [
       "Getting results from database\n",
       "\n"
      ]
     },
     "metadata": {},
     "output_type": "display_data"
    },
    {
     "name": "stdout",
     "output_type": "stream",
     "text": [
      "Total execution time: 3516 ms\n"
     ]
    }
   ],
   "source": [
    "mylist = []\n",
    "for i in myquery.subject.run().paginator(to_list=True):\n",
    "    mylist.extend(i)"
   ]
  },
  {
   "cell_type": "markdown",
   "id": "13980da4",
   "metadata": {},
   "source": [
    "This gives back the correct number of results:"
   ]
  },
  {
   "cell_type": "code",
   "execution_count": 49,
   "id": "15d373af",
   "metadata": {},
   "outputs": [
    {
     "data": {
      "text/plain": [
       "2314"
      ]
     },
     "execution_count": 49,
     "metadata": {},
     "output_type": "execute_result"
    }
   ],
   "source": [
    "len(mylist)\n",
    "#2314"
   ]
  },
  {
   "cell_type": "markdown",
   "id": "1f65ca21",
   "metadata": {},
   "source": [
    "And we can preview the first result to see that it has the same values:"
   ]
  },
  {
   "cell_type": "code",
   "execution_count": 51,
   "id": "f2bb66b9",
   "metadata": {},
   "outputs": [
    {
     "data": {
      "text/plain": [
       "[{'id': '900-00-5445',\n",
       "  'identifier': [{'system': 'IDC', 'value': '900-00-5445'}],\n",
       "  'species': 'Homo sapiens',\n",
       "  'sex': None,\n",
       "  'race': None,\n",
       "  'ethnicity': None,\n",
       "  'days_to_birth': None,\n",
       "  'subject_associated_project': ['rembrandt'],\n",
       "  'vital_status': None,\n",
       "  'age_at_death': None,\n",
       "  'cause_of_death': None}]"
      ]
     },
     "execution_count": 51,
     "metadata": {},
     "output_type": "execute_result"
    }
   ],
   "source": [
    "mylist[0:1]"
   ]
  }
 ],
 "metadata": {
  "kernelspec": {
   "display_name": "Python 3 (ipykernel)",
   "language": "python",
   "name": "python3"
  },
  "language_info": {
   "codemirror_mode": {
    "name": "ipython",
    "version": 3
   },
   "file_extension": ".py",
   "mimetype": "text/x-python",
   "name": "python",
   "nbconvert_exporter": "python",
   "pygments_lexer": "ipython3",
   "version": "3.7.13"
  }
 },
 "nbformat": 4,
 "nbformat_minor": 5
}
